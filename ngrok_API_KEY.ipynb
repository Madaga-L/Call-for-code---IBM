{
 "cells": [
  {
   "cell_type": "code",
   "execution_count": 1,
   "id": "3467dea8",
   "metadata": {},
   "outputs": [],
   "source": [
    "from flask import Flask, jsonify, request\n",
    "import pandas as pd\n",
    "from pyngrok import ngrok"
   ]
  },
  {
   "cell_type": "code",
   "execution_count": 2,
   "id": "ed49a900",
   "metadata": {},
   "outputs": [],
   "source": [
    "app = Flask(__name__)\n",
    "\n",
    "# Load your maize price data (assuming it's in a CSV file)\n",
    "data = pd.read_csv('Predicted_maize_prices_jan_Aug_2024.csv')"
   ]
  },
  {
   "cell_type": "code",
   "execution_count": 3,
   "id": "80efac9d",
   "metadata": {},
   "outputs": [],
   "source": [
    "@app.route('/get_maize_price', methods=['GET'])\n",
    "def get_maize_price():\n",
    "    # Get parameters from the request\n",
    "    region = request.args.get('region')\n",
    "    month = int(request.args.get('month'))  # Month as a number (1-8)\n",
    "\n",
    "    # Filter data based on region and month\n",
    "    result = data[(data['name'] == region) & (data['Month'] == month)]\n",
    "    \n",
    "    if not result.empty:\n",
    "        price = result.iloc[0]['price']\n",
    "        return jsonify({'region': region, 'month': month, 'price': price})\n",
    "    else:\n",
    "        return jsonify({'error': 'Price data not found'}), 404\n",
    "\n",
    "if __name__ == '__main__':\n",
    "    # Set up ngrok with your AuthToken\n",
    "    ngrok.set_auth_token(\"your_auth_token\")  # Replace 'your_auth_token' with your actual token\n",
    "    url = ngrok.connect(5000)  # Start the ngrok tunnel\n",
    "    print(f\" * ngrok tunnel URL: {url}\")"
   ]
  },
  {
   "cell_type": "code",
   "execution_count": null,
   "id": "6b7701d7",
   "metadata": {},
   "outputs": [],
   "source": []
  },
  {
   "cell_type": "code",
   "execution_count": null,
   "id": "083e7a96",
   "metadata": {},
   "outputs": [],
   "source": []
  },
  {
   "cell_type": "code",
   "execution_count": null,
   "id": "cc7675a7",
   "metadata": {},
   "outputs": [],
   "source": []
  },
  {
   "cell_type": "code",
   "execution_count": null,
   "id": "a7432220",
   "metadata": {},
   "outputs": [],
   "source": []
  },
  {
   "cell_type": "code",
   "execution_count": null,
   "id": "3dd97b39",
   "metadata": {},
   "outputs": [],
   "source": []
  },
  {
   "cell_type": "code",
   "execution_count": null,
   "id": "f3b7fbe7",
   "metadata": {},
   "outputs": [],
   "source": []
  },
  {
   "cell_type": "code",
   "execution_count": null,
   "id": "8d35d205",
   "metadata": {},
   "outputs": [],
   "source": []
  },
  {
   "cell_type": "code",
   "execution_count": null,
   "id": "c8642cbb",
   "metadata": {},
   "outputs": [],
   "source": []
  }
 ],
 "metadata": {
  "kernelspec": {
   "display_name": "Python 3 (ipykernel)",
   "language": "python",
   "name": "python3"
  },
  "language_info": {
   "codemirror_mode": {
    "name": "ipython",
    "version": 3
   },
   "file_extension": ".py",
   "mimetype": "text/x-python",
   "name": "python",
   "nbconvert_exporter": "python",
   "pygments_lexer": "ipython3",
   "version": "3.11.5"
  }
 },
 "nbformat": 4,
 "nbformat_minor": 5
}
